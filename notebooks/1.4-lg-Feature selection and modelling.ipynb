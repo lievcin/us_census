{
 "cells": [
  {
   "cell_type": "markdown",
   "metadata": {
    "nbpresent": {
     "id": "c91f1b1f-15c5-4cf6-9d0d-98878e611f84"
    }
   },
   "source": [
    "# Libraries and setup variables"
   ]
  },
  {
   "cell_type": "code",
   "execution_count": 14,
   "metadata": {
    "nbpresent": {
     "id": "3c15f510-9c43-40f8-9000-152c118f8fb6"
    }
   },
   "outputs": [
    {
     "data": {
      "text/html": [
       "<style>.container { width:100% !important; }</style>"
      ],
      "text/plain": [
       "<IPython.core.display.HTML object>"
      ]
     },
     "metadata": {},
     "output_type": "display_data"
    }
   ],
   "source": [
    "from IPython.core.display import display, HTML\n",
    "display(HTML(\"<style>.container { width:100% !important; }</style>\"))\n",
    "\n",
    "import pandas as pd\n",
    "import numpy as np\n",
    "import matplotlib.pyplot as plt\n",
    "import seaborn as sns\n",
    "\n",
    "from sklearn.preprocessing import MinMaxScaler\n",
    "\n",
    "from sklearn.ensemble import RandomForestClassifier, AdaBoostClassifier,  GradientBoostingClassifier\n",
    "from sklearn.tree import DecisionTreeClassifier\n",
    "from sklearn.linear_model import LogisticRegression\n",
    "from sklearn.naive_bayes import GaussianNB\n",
    "from sklearn.svm import SVC\n",
    "\n",
    "from sklearn.metrics import accuracy_score, classification_report, confusion_matrix, roc_curve, auc\n",
    "from sklearn.model_selection import GridSearchCV\n",
    "\n",
    "from utils import *\n",
    "\n",
    "%matplotlib inline\n",
    "sns.set()"
   ]
  },
  {
   "cell_type": "markdown",
   "metadata": {
    "nbpresent": {
     "id": "f58b778a-67b1-4cc5-ba9f-3e7b89290251"
    }
   },
   "source": [
    "### Loading the processed dataset\n",
    "\n",
    "Here we'll load the data into a dataframe, and run a series of initial exploratory analysis.\n",
    "\n",
    "We want to scale these features, since otherwise the error calculation might be incorrect as the scales in the various columns change."
   ]
  },
  {
   "cell_type": "code",
   "execution_count": 2,
   "metadata": {
    "nbpresent": {
     "id": "9e02bc77-c04e-45b3-9627-884fdb436ce0"
    }
   },
   "outputs": [],
   "source": [
    "X_train = pd.read_csv('../data/processed/X_train.csv')\n",
    "Y_train = pd.read_csv('../data/processed/Y_train.csv') \n",
    "X_test  = pd.read_csv('../data/processed/X_test.csv')\n",
    "Y_test  = pd.read_csv('../data/processed/Y_test.csv')"
   ]
  },
  {
   "cell_type": "code",
   "execution_count": 3,
   "metadata": {},
   "outputs": [],
   "source": [
    "# Features needs scaling, as we don't want to be dealing with different magnitudes here.\n",
    "scaler  = MinMaxScaler()\n",
    "X_train = pd.DataFrame(scaler.fit_transform(X_train), columns=X_train.columns)\n",
    "X_test  = pd.DataFrame(scaler.fit_transform(X_test), columns=X_test.columns)"
   ]
  },
  {
   "cell_type": "markdown",
   "metadata": {},
   "source": [
    "## Class inbalance\n",
    "\n",
    "Across all the following classifiers we'll be using the 'balanced' option. The class inbalance in the set is quite substantial, hence accuracy alone is meaningless. We'll be using the f1 score instead to measure performance."
   ]
  },
  {
   "cell_type": "markdown",
   "metadata": {},
   "source": [
    "### Initial exploration of features importance\n",
    "\n",
    "We can run a random forest classifier to rank features importance, this should give us an initial first pass.\n",
    "\n",
    "This model suggests that features such as age or dividends are important in a model. In order to not make the model too complex to start with,\n",
    "we could take the first 10 or so features first."
   ]
  },
  {
   "cell_type": "code",
   "execution_count": 4,
   "metadata": {
    "scrolled": true
   },
   "outputs": [
    {
     "name": "stderr",
     "output_type": "stream",
     "text": [
      "/Users/lievgarcia/anaconda3/envs/dataiku/lib/python3.6/site-packages/ipykernel/__main__.py:7: DataConversionWarning: A column-vector y was passed when a 1d array was expected. Please change the shape of y to (n_samples,), for example using ravel().\n"
     ]
    },
    {
     "name": "stdout",
     "output_type": "stream",
     "text": [
      "Features sorted by their score:\n",
      "[(0.1361, 'age'), (0.0908, 'weeks worked in year'), (0.08, 'major occupation code_not well-paid occ'), (0.07, 'dividends from stocks'), (0.0563, 'num persons worked for employer'), (0.0541, 'major occupation code_well-paid occ'), (0.0438, 'tax filer stat_Joint both under 65'), (0.0413, 'education_no-college'), (0.0391, 'capital gains'), (0.039, 'family members under 18_Unknown'), (0.0382, 'education_college'), (0.0325, 'detailed household summary in household_Not householder'), (0.0239, 'sex_Male'), (0.0213, 'sex_Female'), (0.0151, 'major industry code_not well-paid ind'), (0.0138, 'own business or self employed'), (0.0127, 'wage per hour'), (0.0127, 'capital losses'), (0.0086, 'detailed household summary in household_Householder'), (0.0078, 'class of worker_Other'), (0.0072, 'class of worker_Private'), (0.0071, 'detailed household and family stat_Householder'), (0.0067, 'detailed household and family stat_Spouse of householder'), (0.006, 'detailed household and family stat_Other'), (0.0051, 'race_White'), (0.0049, 'full or part time employment stat_Full-time'), (0.0046, 'country of birth father_United-States'), (0.0045, 'major industry code_well-paid ind'), (0.0043, 'marital stat_not married'), (0.0041, 'country of birth mother_United-States')]\n"
     ]
    }
   ],
   "source": [
    "names = X_train.columns.values\n",
    "\n",
    "# Build the model\n",
    "rfc = RandomForestClassifier(class_weight='balanced')\n",
    "\n",
    "# Fit the model\n",
    "rfc.fit(X_train, Y_train)\n",
    "\n",
    "# Print the results\n",
    "print(\"Features sorted by their score:\")\n",
    "print(sorted(zip(map(lambda x: round(x, 4), rfc.feature_importances_), names), reverse=True)[:30])"
   ]
  },
  {
   "cell_type": "code",
   "execution_count": 5,
   "metadata": {},
   "outputs": [],
   "source": [
    "# We can also use the SKLearn to select the best features. \n",
    "# There are many options for this like Percentile and using f_classification instead of chi2, but this is just a demo for now.\n",
    "\n",
    "from sklearn.feature_selection import SelectKBest, chi2\n",
    "\n",
    "best_features = SelectKBest(chi2, k=30).fit(X_train, Y_train.values.ravel())\n",
    "X_train_best  = best_features.transform(X_train)\n",
    "X_test_best  = best_features.transform(X_test)"
   ]
  },
  {
   "cell_type": "markdown",
   "metadata": {},
   "source": [
    "## Dimensionality reduction\n",
    "We can see from the results above that the dimensionality of this model will be problematic. \n",
    "\n",
    "We can use PCA to find the features that most vary across the dataset. We can see that with ~30 features most of the variance is explained."
   ]
  },
  {
   "cell_type": "code",
   "execution_count": 6,
   "metadata": {},
   "outputs": [
    {
     "data": {
      "image/png": "[encoded data removed]",
      "text/plain": [
       "<Figure size 576x504 with 1 Axes>"
      ]
     },
     "metadata": {},
     "output_type": "display_data"
    }
   ],
   "source": [
    "from sklearn.decomposition import PCA\n",
    "\n",
    "pca = PCA(n_components= 30)\n",
    "X_train_PCA = pca.fit_transform(X_train)\n",
    "X_test_PCA = pca.transform(X_test)\n",
    "\n",
    "plt.figure(1, figsize=(8, 7))\n",
    "plt.plot(pca.explained_variance_ratio_)\n",
    "plt.ylabel('explained variance ratio')\n",
    "plt.xlabel('number of features')\n",
    "\n",
    "plt.show()"
   ]
  },
  {
   "cell_type": "markdown",
   "metadata": {},
   "source": [
    "## Building a couple of classifiers\n",
    "\n",
    "We'll build a few simple classifiers: Decision Trees, Logistic Regression, Naive Bayes, SVM."
   ]
  },
  {
   "cell_type": "markdown",
   "metadata": {},
   "source": [
    "### 1) Decision Tree\n",
    "\n",
    "Decision tree, achieving over 95% accuracy on both sets. This is better than just predicting everyone does less than 50K, which would be 93% as established in the feature exploration part. At the same time, we should use more advanced measures of accuracy due to the present class inbalance in our population."
   ]
  },
  {
   "cell_type": "code",
   "execution_count": 7,
   "metadata": {
    "scrolled": true
   },
   "outputs": [
    {
     "name": "stdout",
     "output_type": "stream",
     "text": [
      "Training accuracy: 0.95305303148008 %\n",
      "Test accuracy: 0.9516248671838977 %\n"
     ]
    }
   ],
   "source": [
    "random_forest_importance = sorted(zip(map(lambda x: round(x, 4), rfc.feature_importances_), names), reverse=True)[:30]\n",
    "important_columns = [f[1] for f in random_forest_importance]\n",
    "\n",
    "X_train_tree = X_train[important_columns]\n",
    "X_test_tree  = X_test[important_columns]\n",
    "\n",
    "clf = DecisionTreeClassifier(max_depth=8) # This depth was adjusted from the next cell results\n",
    "clf.fit(X_train_tree, Y_train.values.ravel())\n",
    "\n",
    "Y_train_pred  = clf.predict(X_train_tree)\n",
    "Y_test_pred  = clf.predict(X_test_tree)\n",
    "\n",
    "print('Training accuracy: {} %'.format(accuracy_score(Y_train, Y_train_pred)))\n",
    "print('Test accuracy: {} %'.format(accuracy_score(Y_test, Y_test_pred)))"
   ]
  },
  {
   "cell_type": "markdown",
   "metadata": {},
   "source": [
    "#### Overfitting\n",
    "\n",
    "We can create a few trees with different depths, and we can observe that somehow the trees are very similar once the class_weight is set to balanced. If this was left untouched, then at around depth exceeds 8, we'd start overfitting."
   ]
  },
  {
   "cell_type": "code",
   "execution_count": 8,
   "metadata": {},
   "outputs": [
    {
     "data": {
      "image/png": "[encoded data removed]",
      "text/plain": [
       "<Figure size 432x288 with 1 Axes>"
      ]
     },
     "metadata": {},
     "output_type": "display_data"
    }
   ],
   "source": [
    "dep = np.arange(1, 10)\n",
    "train_accuracy = np.empty(len(dep))\n",
    "test_accuracy = np.empty(len(dep))\n",
    "\n",
    "for i, k in enumerate(dep):\n",
    "    \n",
    "    clf = DecisionTreeClassifier(max_depth=k)\n",
    "    clf.fit(X_train_tree, Y_train.values.ravel())\n",
    "\n",
    "    #Compute accuracies\n",
    "    train_accuracy[i] = clf.score(X_train_tree, Y_train.values.ravel())\n",
    "    test_accuracy[i] = clf.score(X_test_tree, Y_test.values.ravel())\n",
    "\n",
    "plt.title('clf: Varying depth of tree')\n",
    "plt.plot(dep, test_accuracy, label = 'Testing Accuracy')\n",
    "plt.plot(dep, train_accuracy, label = 'Training Accuracy')\n",
    "plt.legend()\n",
    "plt.xlabel('Depth of tree')\n",
    "plt.ylabel('Accuracy')\n",
    "plt.show()"
   ]
  },
  {
   "cell_type": "markdown",
   "metadata": {},
   "source": [
    "## Dealing with class inbalance\n",
    "\n",
    "We have fit a Decision Tree classifier to our set. But if we see the performance, while accuracy will be high overall, this is rather meaningless. \n",
    "**We need to look at how the smaller class is being classified, depending on the problem at hand this might be important or not**"
   ]
  },
  {
   "cell_type": "code",
   "execution_count": 9,
   "metadata": {},
   "outputs": [
    {
     "name": "stdout",
     "output_type": "stream",
     "text": [
      "training Set:\n",
      "\n",
      "training Confusion Matrix:\n",
      "[[92797   779]\n",
      " [ 4047  2139]]\n",
      "training Classification report:\n",
      "             precision    recall  f1-score   support\n",
      "\n",
      "          0       0.96      0.99      0.97     93576\n",
      "          1       0.73      0.35      0.47      6186\n",
      "\n",
      "avg / total       0.94      0.95      0.94     99762\n",
      "\n",
      "training Accuracy: 0.9516248671838977\n"
     ]
    }
   ],
   "source": [
    "class_report(Y_test, Y_test_pred,'training')"
   ]
  },
  {
   "cell_type": "markdown",
   "metadata": {},
   "source": [
    "**But if we run another classifier with a weighting on the smaller class we observe different results**\n",
    "\n",
    "Now our performance on the bigger class has decreased, but in the smaller class increased substantially."
   ]
  },
  {
   "cell_type": "markdown",
   "metadata": {},
   "source": [
    "## 1) Decision Tree"
   ]
  },
  {
   "cell_type": "code",
   "execution_count": 10,
   "metadata": {},
   "outputs": [
    {
     "name": "stdout",
     "output_type": "stream",
     "text": [
      "training Set:\n",
      "\n",
      "training Confusion Matrix:\n",
      "[[92796   780]\n",
      " [ 4049  2137]]\n",
      "training Classification report:\n",
      "             precision    recall  f1-score   support\n",
      "\n",
      "          0       0.96      0.99      0.97     93576\n",
      "          1       0.73      0.35      0.47      6186\n",
      "\n",
      "avg / total       0.94      0.95      0.94     99762\n",
      "\n",
      "training Accuracy: 0.9515947956135603\n"
     ]
    },
    {
     "data": {
      "image/png": "[encoded data removed]",
      "text/plain": [
       "<Figure size 432x288 with 1 Axes>"
      ]
     },
     "metadata": {},
     "output_type": "display_data"
    },
    {
     "name": "stdout",
     "output_type": "stream",
     "text": [
      "Area under the curve 0.9261976554598061\n"
     ]
    }
   ],
   "source": [
    "clf = DecisionTreeClassifier(max_depth=8) # This depth was adjusted from the next cell results\n",
    "clf.fit(X_train_tree, Y_train.values.ravel())\n",
    "\n",
    "Y_train_pred  = clf.predict(X_train_tree)\n",
    "Y_test_pred  = clf.predict(X_test_tree)\n",
    "class_report(Y_test, Y_test_pred,'training')\n",
    "\n",
    "# Compute predicted probabilities: y_pred_prob\n",
    "Y_pred_prob = clf.predict_proba(X_test_tree)[:,1]\n",
    "\n",
    "# Generate ROC curve values: fpr, tpr, thresholds\n",
    "fpr, tpr, thresholds = roc_curve(Y_test, Y_pred_prob)\n",
    "roc_auc = auc(fpr, tpr)\n",
    "\n",
    "# Plot ROC curve\n",
    "plt.plot([0, 1], [0, 1], 'k--')\n",
    "plt.plot(fpr, tpr)\n",
    "plt.xlabel('False Positive Rate')\n",
    "plt.ylabel('True Positive Rate')\n",
    "plt.title('ROC Curve')\n",
    "plt.show()\n",
    "\n",
    "print('Area under the curve {}'.format(roc_auc))"
   ]
  },
  {
   "cell_type": "markdown",
   "metadata": {},
   "source": [
    "### 2) Logistic Regression"
   ]
  },
  {
   "cell_type": "code",
   "execution_count": 11,
   "metadata": {},
   "outputs": [
    {
     "name": "stdout",
     "output_type": "stream",
     "text": [
      "training Set:\n",
      "\n",
      "training Confusion Matrix:\n",
      "[[92813   763]\n",
      " [ 4269  1917]]\n",
      "training Classification report:\n",
      "             precision    recall  f1-score   support\n",
      "\n",
      "          0       0.96      0.99      0.97     93576\n",
      "          1       0.72      0.31      0.43      6186\n",
      "\n",
      "avg / total       0.94      0.95      0.94     99762\n",
      "\n",
      "training Accuracy: 0.949559952687396\n"
     ]
    },
    {
     "data": {
      "image/png": "[encoded data removed]",
      "text/plain": [
       "<Figure size 432x288 with 1 Axes>"
      ]
     },
     "metadata": {},
     "output_type": "display_data"
    },
    {
     "name": "stdout",
     "output_type": "stream",
     "text": [
      "Area under the curve 0.9343300342070295\n"
     ]
    }
   ],
   "source": [
    "clf = LogisticRegression()\n",
    "clf.fit(X_train_tree, Y_train.values.ravel())\n",
    "\n",
    "Y_train_pred  = clf.predict(X_train_tree)\n",
    "Y_test_pred  = clf.predict(X_test_tree)\n",
    "class_report(Y_test, Y_test_pred,'training')\n",
    "\n",
    "# Compute predicted probabilities: y_pred_prob\n",
    "Y_pred_prob = clf.predict_proba(X_test_tree)[:,1]\n",
    "\n",
    "# Generate ROC curve values: fpr, tpr, thresholds\n",
    "fpr, tpr, thresholds = roc_curve(Y_test, Y_pred_prob)\n",
    "roc_auc = auc(fpr, tpr)\n",
    "\n",
    "# Plot ROC curve\n",
    "plt.plot([0, 1], [0, 1], 'k--')\n",
    "plt.plot(fpr, tpr)\n",
    "plt.xlabel('False Positive Rate')\n",
    "plt.ylabel('True Positive Rate')\n",
    "plt.title('ROC Curve')\n",
    "plt.show()\n",
    "\n",
    "print('Area under the curve {}'.format(roc_auc))"
   ]
  },
  {
   "cell_type": "markdown",
   "metadata": {},
   "source": [
    "## 3) Naive Bayes"
   ]
  },
  {
   "cell_type": "code",
   "execution_count": 12,
   "metadata": {},
   "outputs": [
    {
     "name": "stdout",
     "output_type": "stream",
     "text": [
      "training Set:\n",
      "\n",
      "training Confusion Matrix:\n",
      "[[78567 15009]\n",
      " [ 1044  5142]]\n",
      "training Classification report:\n",
      "             precision    recall  f1-score   support\n",
      "\n",
      "          0       0.99      0.84      0.91     93576\n",
      "          1       0.26      0.83      0.39      6186\n",
      "\n",
      "avg / total       0.94      0.84      0.88     99762\n",
      "\n",
      "training Accuracy: 0.8390870271245564\n"
     ]
    },
    {
     "data": {
      "image/png": "[encoded data removed]",
      "text/plain": [
       "<Figure size 432x288 with 1 Axes>"
      ]
     },
     "metadata": {},
     "output_type": "display_data"
    },
    {
     "name": "stdout",
     "output_type": "stream",
     "text": [
      "Area under the curve 0.9343300342070295\n"
     ]
    }
   ],
   "source": [
    "clf = GaussianNB()\n",
    "\n",
    "# Train the model using the training sets \n",
    "clf.fit(X_train_tree, Y_train.values.ravel())\n",
    "\n",
    "#Predict Output \n",
    "Y_train_pred  = clf.predict(X_train_tree)\n",
    "Y_test_pred  = clf.predict(X_test_tree)\n",
    "\n",
    "class_report(Y_test, Y_test_pred,'training')\n",
    "\n",
    "# Generate ROC curve values: fpr, tpr, thresholds\n",
    "fpr, tpr, thresholds = roc_curve(Y_test, Y_pred_prob)\n",
    "roc_auc = auc(fpr, tpr)\n",
    "\n",
    "# Plot ROC curve\n",
    "plt.plot([0, 1], [0, 1], 'k--')\n",
    "plt.plot(fpr, tpr)\n",
    "plt.xlabel('False Positive Rate')\n",
    "plt.ylabel('True Positive Rate')\n",
    "plt.title('ROC Curve')\n",
    "plt.show()\n",
    "\n",
    "print('Area under the curve {}'.format(roc_auc))"
   ]
  },
  {
   "cell_type": "markdown",
   "metadata": {},
   "source": [
    "## 4) Gradient Boosting"
   ]
  },
  {
   "cell_type": "code",
   "execution_count": 16,
   "metadata": {},
   "outputs": [
    {
     "name": "stdout",
     "output_type": "stream",
     "text": [
      "training Set:\n",
      "\n",
      "training Confusion Matrix:\n",
      "[[92613   963]\n",
      " [ 3691  2495]]\n",
      "training Classification report:\n",
      "             precision    recall  f1-score   support\n",
      "\n",
      "          0       0.96      0.99      0.98     93576\n",
      "          1       0.72      0.40      0.52      6186\n",
      "\n",
      "avg / total       0.95      0.95      0.95     99762\n",
      "\n",
      "training Accuracy: 0.9533489705499087\n"
     ]
    },
    {
     "data": {
      "image/png": "[encoded data removed]",
      "text/plain": [
       "<Figure size 432x288 with 1 Axes>"
      ]
     },
     "metadata": {},
     "output_type": "display_data"
    },
    {
     "name": "stdout",
     "output_type": "stream",
     "text": [
      "Area under the curve 0.9343300342070295\n"
     ]
    }
   ],
   "source": [
    "clf = GradientBoostingClassifier()\n",
    "clf.fit(X_train_tree, Y_train.values.ravel())\n",
    "\n",
    "#Predict Output \n",
    "Y_train_pred  = clf.predict(X_train_tree)\n",
    "Y_test_pred  = clf.predict(X_test_tree)\n",
    "\n",
    "class_report(Y_test, Y_test_pred,'training')\n",
    "\n",
    "# Generate ROC curve values: fpr, tpr, thresholds\n",
    "fpr, tpr, thresholds = roc_curve(Y_test, Y_pred_prob)\n",
    "roc_auc = auc(fpr, tpr)\n",
    "\n",
    "# Plot ROC curve\n",
    "plt.plot([0, 1], [0, 1], 'k--')\n",
    "plt.plot(fpr, tpr)\n",
    "plt.xlabel('False Positive Rate')\n",
    "plt.ylabel('True Positive Rate')\n",
    "plt.title('ROC Curve')\n",
    "plt.show()\n",
    "\n",
    "print('Area under the curve {}'.format(roc_auc))"
   ]
  },
  {
   "cell_type": "markdown",
   "metadata": {},
   "source": [
    "## 5) AdaBoost"
   ]
  },
  {
   "cell_type": "code",
   "execution_count": 17,
   "metadata": {},
   "outputs": [
    {
     "name": "stdout",
     "output_type": "stream",
     "text": [
      "training Set:\n",
      "\n",
      "training Confusion Matrix:\n",
      "[[92665   911]\n",
      " [ 3920  2266]]\n",
      "training Classification report:\n",
      "             precision    recall  f1-score   support\n",
      "\n",
      "          0       0.96      0.99      0.97     93576\n",
      "          1       0.71      0.37      0.48      6186\n",
      "\n",
      "avg / total       0.94      0.95      0.94     99762\n",
      "\n",
      "training Accuracy: 0.951574747900002\n"
     ]
    },
    {
     "data": {
      "image/png": "[encoded data removed]",
      "text/plain": [
       "<Figure size 432x288 with 1 Axes>"
      ]
     },
     "metadata": {},
     "output_type": "display_data"
    },
    {
     "name": "stdout",
     "output_type": "stream",
     "text": [
      "Area under the curve 0.9343300342070295\n"
     ]
    }
   ],
   "source": [
    "clf = AdaBoostClassifier()\n",
    "clf.fit(X_train_tree, Y_train.values.ravel())\n",
    "\n",
    "#Predict Output \n",
    "Y_train_pred  = clf.predict(X_train_tree)\n",
    "Y_test_pred  = clf.predict(X_test_tree)\n",
    "\n",
    "class_report(Y_test, Y_test_pred,'training')\n",
    "\n",
    "# Generate ROC curve values: fpr, tpr, thresholds\n",
    "fpr, tpr, thresholds = roc_curve(Y_test, Y_pred_prob)\n",
    "roc_auc = auc(fpr, tpr)\n",
    "\n",
    "# Plot ROC curve\n",
    "plt.plot([0, 1], [0, 1], 'k--')\n",
    "plt.plot(fpr, tpr)\n",
    "plt.xlabel('False Positive Rate')\n",
    "plt.ylabel('True Positive Rate')\n",
    "plt.title('ROC Curve')\n",
    "plt.show()\n",
    "\n",
    "print('Area under the curve {}'.format(roc_auc))"
   ]
  },
  {
   "cell_type": "code",
   "execution_count": 18,
   "metadata": {},
   "outputs": [
    {
     "data": {
      "text/plain": [
       "['age',\n",
       " 'weeks worked in year',\n",
       " 'major occupation code_not well-paid occ',\n",
       " 'dividends from stocks',\n",
       " 'num persons worked for employer',\n",
       " 'major occupation code_well-paid occ',\n",
       " 'tax filer stat_Joint both under 65',\n",
       " 'education_no-college',\n",
       " 'capital gains',\n",
       " 'family members under 18_Unknown',\n",
       " 'education_college',\n",
       " 'detailed household summary in household_Not householder',\n",
       " 'sex_Male',\n",
       " 'sex_Female',\n",
       " 'major industry code_not well-paid ind',\n",
       " 'own business or self employed',\n",
       " 'wage per hour',\n",
       " 'capital losses',\n",
       " 'detailed household summary in household_Householder',\n",
       " 'class of worker_Other',\n",
       " 'class of worker_Private',\n",
       " 'detailed household and family stat_Householder',\n",
       " 'detailed household and family stat_Spouse of householder',\n",
       " 'detailed household and family stat_Other',\n",
       " 'race_White',\n",
       " 'full or part time employment stat_Full-time',\n",
       " 'country of birth father_United-States',\n",
       " 'major industry code_well-paid ind',\n",
       " 'marital stat_not married',\n",
       " 'country of birth mother_United-States']"
      ]
     },
     "execution_count": 18,
     "metadata": {},
     "output_type": "execute_result"
    }
   ],
   "source": [
    "important_columns"
   ]
  },
  {
   "cell_type": "code",
   "execution_count": null,
   "metadata": {},
   "outputs": [],
   "source": []
  }
 ],
 "metadata": {
  "kernelspec": {
   "display_name": "Python [conda env:dataiku]",
   "language": "python",
   "name": "conda-env-dataiku-py"
  },
  "language_info": {
   "codemirror_mode": {
    "name": "ipython",
    "version": 3
   },
   "file_extension": ".py",
   "mimetype": "text/x-python",
   "name": "python",
   "nbconvert_exporter": "python",
   "pygments_lexer": "ipython3",
   "version": "3.6.6"
  },
  "nbpresent": {
   "slides": {},
   "themes": {
    "default": "6c644281-1799-4cce-a279-0da034503deb",
    "theme": {
     "6c644281-1799-4cce-a279-0da034503deb": {
      "backgrounds": {
       "dc7afa04-bf90-40b1-82a5-726e3cff5267": {
        "background-color": "31af15d2-7e15-44c5-ab5e-e04b16a89eff",
        "id": "dc7afa04-bf90-40b1-82a5-726e3cff5267"
       }
      },
      "id": "6c644281-1799-4cce-a279-0da034503deb",
      "palette": {
       "19cc588f-0593-49c9-9f4b-e4d7cc113b1c": {
        "id": "19cc588f-0593-49c9-9f4b-e4d7cc113b1c",
        "rgb": [
         252,
         252,
         252
        ]
       },
       "31af15d2-7e15-44c5-ab5e-e04b16a89eff": {
        "id": "31af15d2-7e15-44c5-ab5e-e04b16a89eff",
        "rgb": [
         68,
         68,
         68
        ]
       },
       "50f92c45-a630-455b-aec3-788680ec7410": {
        "id": "50f92c45-a630-455b-aec3-788680ec7410",
        "rgb": [
         197,
         226,
         245
        ]
       },
       "c5cc3653-2ee1-402a-aba2-7caae1da4f6c": {
        "id": "c5cc3653-2ee1-402a-aba2-7caae1da4f6c",
        "rgb": [
         43,
         126,
         184
        ]
       },
       "efa7f048-9acb-414c-8b04-a26811511a21": {
        "id": "efa7f048-9acb-414c-8b04-a26811511a21",
        "rgb": [
         25.118061674008803,
         73.60176211453744,
         107.4819383259912
        ]
       }
      },
      "rules": {
       "a": {
        "color": "19cc588f-0593-49c9-9f4b-e4d7cc113b1c"
       },
       "blockquote": {
        "color": "50f92c45-a630-455b-aec3-788680ec7410",
        "font-size": 3
       },
       "code": {
        "font-family": "Anonymous Pro"
       },
       "h1": {
        "color": "19cc588f-0593-49c9-9f4b-e4d7cc113b1c",
        "font-family": "Merriweather",
        "font-size": 8
       },
       "h2": {
        "color": "19cc588f-0593-49c9-9f4b-e4d7cc113b1c",
        "font-family": "Merriweather",
        "font-size": 6
       },
       "h3": {
        "color": "50f92c45-a630-455b-aec3-788680ec7410",
        "font-family": "Lato",
        "font-size": 5.5
       },
       "h4": {
        "color": "c5cc3653-2ee1-402a-aba2-7caae1da4f6c",
        "font-family": "Lato",
        "font-size": 5
       },
       "h5": {
        "font-family": "Lato"
       },
       "h6": {
        "font-family": "Lato"
       },
       "h7": {
        "font-family": "Lato"
       },
       "li": {
        "color": "50f92c45-a630-455b-aec3-788680ec7410",
        "font-size": 3.25
       },
       "pre": {
        "font-family": "Anonymous Pro",
        "font-size": 4
       }
      },
      "text-base": {
       "color": "19cc588f-0593-49c9-9f4b-e4d7cc113b1c",
       "font-family": "Lato",
       "font-size": 4
      }
     }
    }
   }
  }
 },
 "nbformat": 4,
 "nbformat_minor": 2
}
