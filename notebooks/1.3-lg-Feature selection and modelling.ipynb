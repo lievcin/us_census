{
 "cells": [
  {
   "cell_type": "markdown",
   "metadata": {
    "nbpresent": {
     "id": "c91f1b1f-15c5-4cf6-9d0d-98878e611f84"
    }
   },
   "source": [
    "# Libraries and setup variables"
   ]
  },
  {
   "cell_type": "code",
   "execution_count": 20,
   "metadata": {
    "nbpresent": {
     "id": "3c15f510-9c43-40f8-9000-152c118f8fb6"
    }
   },
   "outputs": [
    {
     "data": {
      "text/html": [
       "<style>.container { width:100% !important; }</style>"
      ],
      "text/plain": [
       "<IPython.core.display.HTML object>"
      ]
     },
     "metadata": {},
     "output_type": "display_data"
    }
   ],
   "source": [
    "from IPython.core.display import display, HTML\n",
    "display(HTML(\"<style>.container { width:100% !important; }</style>\"))\n",
    "\n",
    "import pandas as pd\n",
    "import numpy as np\n",
    "import matplotlib.pyplot as plt\n",
    "import seaborn as sns\n",
    "\n",
    "from sklearn import tree\n",
    "from sklearn.ensemble import RandomForestClassifier\n",
    "from sklearn.linear_model import LogisticRegression\n",
    "from sklearn.neighbors import KNeighborsClassifier\n",
    "\n",
    "from sklearn.metrics import accuracy_score, classification_report, confusion_matrix, roc_curve\n",
    "from sklearn.model_selection import GridSearchCV\n",
    "# from sklearn.model_selection import KFold\n",
    "# from sklearn.model_selection import cross_val_score\n",
    "\n",
    "from utils import *\n",
    "\n",
    "%matplotlib inline\n",
    "sns.set()"
   ]
  },
  {
   "cell_type": "markdown",
   "metadata": {
    "nbpresent": {
     "id": "f58b778a-67b1-4cc5-ba9f-3e7b89290251"
    }
   },
   "source": [
    "### Loading the processed dataset\n",
    "\n",
    "Here we'll load the data into a dataframe, and run a series of initial exploratory analysis."
   ]
  },
  {
   "cell_type": "code",
   "execution_count": 2,
   "metadata": {
    "nbpresent": {
     "id": "9e02bc77-c04e-45b3-9627-884fdb436ce0"
    }
   },
   "outputs": [],
   "source": [
    "df_train = pd.read_csv('../data/processed/census_income_learn.csv')\n",
    "df_test  = pd.read_csv('../data/processed/census_income_test.csv')"
   ]
  },
  {
   "cell_type": "code",
   "execution_count": 3,
   "metadata": {},
   "outputs": [],
   "source": [
    "# columns_types\n",
    "cont_columns, nominal_columns = columns_types()\n",
    "\n",
    "df = df_train.copy()\n",
    "df = one_hot_df(df, ['set'])"
   ]
  },
  {
   "cell_type": "markdown",
   "metadata": {},
   "source": [
    "### Initial exploration of features importance\n",
    "\n",
    "We can run a random forest classifier to rank features importance, this should give us an initial first pass.\n",
    "\n",
    "This model suggests that features such as age or dividends are important in a model. In order to not make the model too complex to start with,\n",
    "we could take the first 10 features first."
   ]
  },
  {
   "cell_type": "code",
   "execution_count": 4,
   "metadata": {},
   "outputs": [
    {
     "name": "stdout",
     "output_type": "stream",
     "text": [
      "Features sorted by their score:\n",
      "[(0.12, 'age'), (0.096600000000000005, 'dividends from stocks'), (0.086900000000000005, 'capital gains'), (0.079299999999999995, 'education'), (0.071300000000000002, 'detailed occupation recode'), (0.058500000000000003, 'detailed industry recode'), (0.051299999999999998, 'major occupation code'), (0.044499999999999998, 'major industry code'), (0.042200000000000001, 'num persons worked for employer'), (0.038199999999999998, 'weeks worked in year'), (0.030599999999999999, 'class of worker'), (0.029899999999999999, 'sex'), (0.027400000000000001, 'capital losses'), (0.0177, 'tax filer stat'), (0.017600000000000001, 'detailed household and family stat'), (0.017500000000000002, 'own business or self employed'), (0.0146, 'detailed household summary in household'), (0.0141, 'marital stat'), (0.014, 'country of birth father'), (0.0137, 'wage per hour'), (0.013599999999999999, 'full or part time employment stat'), (0.012999999999999999, 'country of birth mother'), (0.011299999999999999, 'race'), (0.0085000000000000006, 'hispanic origin'), (0.0077000000000000002, 'country of birth self'), (0.0073000000000000001, 'citizenship'), (0.0071000000000000004, 'migration code-change in msa'), (0.0068999999999999999, 'migration code-change in reg'), (0.0061999999999999998, 'migration code-move within reg'), (0.0060000000000000001, 'live in this house 1 year ago'), (0.0050000000000000001, 'state of previous residence'), (0.0044000000000000003, 'member of a labor union'), (0.0043, 'year'), (0.0037000000000000002, 'region of previous residence'), (0.0028999999999999998, 'veterans benefits'), (0.0027000000000000001, 'migration prev res in sunbelt'), (0.0025999999999999999, 'reason for unemployment'), (0.00040000000000000002, 'enroll in edu inst last wk'), (0.00029999999999999997, \"fill inc questionnaire for veteran's admin\"), (0.0, 'family members under 18')]\n"
     ]
    }
   ],
   "source": [
    "# Import `RandomForestClassifier`\n",
    "from sklearn.ensemble import RandomForestClassifier\n",
    "\n",
    "# Isolate Data, class labels and column values\n",
    "X = df.iloc[:,0:40]\n",
    "Y = df.iloc[:,-2]\n",
    "names = df.columns.values\n",
    "\n",
    "# Build the model\n",
    "rfc = RandomForestClassifier()\n",
    "\n",
    "# Fit the model\n",
    "rfc.fit(X, Y)\n",
    "\n",
    "# Print the results\n",
    "print(\"Features sorted by their score:\")\n",
    "print(sorted(zip(map(lambda x: round(x, 4), rfc.feature_importances_), names), reverse=True))"
   ]
  },
  {
   "cell_type": "markdown",
   "metadata": {},
   "source": [
    "### 1) Decision Tree\n",
    "Decision tree, achieving a 94.8% accuracy on both sets. This is better than just predicting everyone does less than 50K, which would be 93% as established in the feature exploration part. At the same time, we should use more advanced measures of accuracy due to the present class inbalance in our population."
   ]
  },
  {
   "cell_type": "code",
   "execution_count": 5,
   "metadata": {
    "scrolled": true
   },
   "outputs": [
    {
     "name": "stderr",
     "output_type": "stream",
     "text": [
      "/Users/lievgarcia/Sites/us_census/notebooks/utils.py:43: SettingWithCopyWarning: \n",
      "A value is trying to be set on a copy of a slice from a DataFrame.\n",
      "Try using .loc[row_indexer,col_indexer] = value instead\n",
      "\n",
      "See the caveats in the documentation: http://pandas.pydata.org/pandas-docs/stable/indexing.html#indexing-view-versus-copy\n",
      "  df[column] = labels\n"
     ]
    },
    {
     "name": "stdout",
     "output_type": "stream",
     "text": [
      "Training accuracy: 0.9503415646316464 %\n",
      "Test accuracy: 0.9485074477255869 %\n"
     ]
    }
   ],
   "source": [
    "important_columns = ['age', 'dividends from stocks', 'capital gains', 'education', 'detailed industry recode', 'detailed occupation recode',\n",
    "                     'major occupation code', 'major industry code', 'weeks worked in year', 'num persons worked for employer', 'class of worker',\n",
    "                     'sex']\n",
    "\n",
    "X_train = df_train[important_columns]\n",
    "X_train = one_hot_df(X_train)\n",
    "X_test  = df_test[important_columns]\n",
    "X_test  = one_hot_df(X_test)\n",
    "Y_train = df_train['salary'].values\n",
    "Y_test  = df_test['salary'].values\n",
    "\n",
    "clf = tree.DecisionTreeClassifier(max_depth=7)\n",
    "clf.fit(X_train, Y_train)\n",
    "\n",
    "Y_train_pred  = clf.predict(X_train)\n",
    "Y_test_pred  = clf.predict(X_test)\n",
    "\n",
    "print('Training accuracy: {} %'.format(accuracy_score(Y_train, Y_train_pred)))\n",
    "print('Test accuracy: {} %'.format(accuracy_score(Y_test, Y_test_pred)))"
   ]
  },
  {
   "cell_type": "markdown",
   "metadata": {},
   "source": [
    "#### Overfitting\n",
    "\n",
    "We can create a few trees with different depths, and we can observe that when the depth exceeds 7, we start overfitting and our\n",
    "\n",
    "test set accuracy decreases badly."
   ]
  },
  {
   "cell_type": "code",
   "execution_count": 6,
   "metadata": {},
   "outputs": [
    {
     "data": {
      "image/png": "[encoded data removed]",
      "text/plain": [
       "<matplotlib.figure.Figure at 0x10583efd0>"
      ]
     },
     "metadata": {},
     "output_type": "display_data"
    }
   ],
   "source": [
    "dep = np.arange(1, 10)\n",
    "train_accuracy = np.empty(len(dep))\n",
    "test_accuracy = np.empty(len(dep))\n",
    "\n",
    "for i, k in enumerate(dep):\n",
    "    \n",
    "    clf = tree.DecisionTreeClassifier(max_depth=k)\n",
    "    clf.fit(X_train, Y_train)\n",
    "\n",
    "    #Compute accuracies\n",
    "    train_accuracy[i] = clf.score(X_train, Y_train)\n",
    "    test_accuracy[i] = clf.score(X_test, Y_test)\n",
    "\n",
    "plt.title('clf: Varying depth of tree')\n",
    "plt.plot(dep, test_accuracy, label = 'Testing Accuracy')\n",
    "plt.plot(dep, train_accuracy, label = 'Training Accuracy')\n",
    "plt.legend()\n",
    "plt.xlabel('Depth of tree')\n",
    "plt.ylabel('Accuracy')\n",
    "plt.show()"
   ]
  },
  {
   "cell_type": "markdown",
   "metadata": {},
   "source": [
    "We can see the report for a RF of depth 7, from the confusion matrix we can also see the inbalance in classes and how is affecting the accuracy"
   ]
  },
  {
   "cell_type": "code",
   "execution_count": 31,
   "metadata": {},
   "outputs": [
    {
     "name": "stdout",
     "output_type": "stream",
     "text": [
      "training Set:\n",
      "\n",
      "training Confusion Matrix:\n",
      "[[93131   445]\n",
      " [ 4692  1494]]\n",
      "training Classification report:\n",
      "             precision    recall  f1-score   support\n",
      "\n",
      "          0       0.95      1.00      0.97     93576\n",
      "          1       0.77      0.24      0.37      6186\n",
      "\n",
      "avg / total       0.94      0.95      0.94     99762\n",
      "\n",
      "training Accuracy: 0.9485074477255869\n"
     ]
    }
   ],
   "source": [
    "class_report(Y_test, Y_test_pred,'training')"
   ]
  },
  {
   "cell_type": "markdown",
   "metadata": {},
   "source": [
    "### 2) Logistic Regression\n",
    "\n",
    "In the case of the Logistic regression we'll:\n",
    "\n",
    "1 - run a simple fit, generate a summary\n",
    "2 - Compute the ROC curve, showing that a tradeoff will need to be made between False positives and False Negatives\n",
    "3 - Try a fit with a 'balancing' of the classes\n",
    "4 - Grid search for a good hyperparameter."
   ]
  },
  {
   "cell_type": "code",
   "execution_count": 32,
   "metadata": {},
   "outputs": [
    {
     "name": "stdout",
     "output_type": "stream",
     "text": [
      "training Set:\n",
      "\n",
      "training Confusion Matrix:\n",
      "[[92802   774]\n",
      " [ 4877  1309]]\n",
      "training Classification report:\n",
      "             precision    recall  f1-score   support\n",
      "\n",
      "          0       0.95      0.99      0.97     93576\n",
      "          1       0.63      0.21      0.32      6186\n",
      "\n",
      "avg / total       0.93      0.94      0.93     99762\n",
      "\n",
      "training Accuracy: 0.9433551853411118\n"
     ]
    }
   ],
   "source": [
    "from sklearn.linear_model import LogisticRegression\n",
    "from sklearn.metrics import confusion_matrix, classification_report\n",
    "\n",
    "logreg = LogisticRegression()\n",
    "logreg.fit(X_train, Y_train)\n",
    "\n",
    "# Predict the labels of the test set: y_pred\n",
    "Y_pred = logreg.predict(X_test)\n",
    "\n",
    "class_report(Y_test, Y_pred,'training')"
   ]
  },
  {
   "cell_type": "code",
   "execution_count": 33,
   "metadata": {},
   "outputs": [
    {
     "data": {
      "image/png": "[encoded data removed]",
      "text/plain": [
       "<matplotlib.figure.Figure at 0x119f36160>"
      ]
     },
     "metadata": {},
     "output_type": "display_data"
    }
   ],
   "source": [
    "# Compute predicted probabilities: y_pred_prob\n",
    "Y_pred_prob = logreg.predict_proba(X_test)[:,1]\n",
    "\n",
    "# Generate ROC curve values: fpr, tpr, thresholds\n",
    "fpr, tpr, thresholds = roc_curve(Y_test, Y_pred_prob)\n",
    "\n",
    "# Plot ROC curve\n",
    "plt.plot([0, 1], [0, 1], 'k--')\n",
    "plt.plot(fpr, tpr)\n",
    "plt.xlabel('False Positive Rate')\n",
    "plt.ylabel('True Positive Rate')\n",
    "plt.title('ROC Curve')\n",
    "plt.show()"
   ]
  },
  {
   "cell_type": "code",
   "execution_count": 34,
   "metadata": {},
   "outputs": [
    {
     "name": "stdout",
     "output_type": "stream",
     "text": [
      "training Set:\n",
      "\n",
      "training Confusion Matrix:\n",
      "[[73357 20219]\n",
      " [  954  5232]]\n",
      "training Classification report:\n",
      "             precision    recall  f1-score   support\n",
      "\n",
      "          0       0.99      0.78      0.87     93576\n",
      "          1       0.21      0.85      0.33      6186\n",
      "\n",
      "avg / total       0.94      0.79      0.84     99762\n",
      "\n",
      "training Accuracy: 0.7877648804153886\n"
     ]
    }
   ],
   "source": [
    "# Running a balanced classes fit\n",
    "logreg = LogisticRegression(random_state=0, class_weight='balanced')\n",
    "logreg.fit(X_train, Y_train)\n",
    "Y_pred = logreg.predict(X_test)\n",
    "class_report(Y_test, Y_pred,'training')\n",
    "\n",
    "# We can see that the overall accuracy drops, but the accuracy of the smaller class improves"
   ]
  },
  {
   "cell_type": "markdown",
   "metadata": {},
   "source": [
    "#### Grid Search\n",
    "We can also grid search for optimal hyper parameters."
   ]
  },
  {
   "cell_type": "code",
   "execution_count": 41,
   "metadata": {},
   "outputs": [
    {
     "name": "stdout",
     "output_type": "stream",
     "text": [
      "Tuned Logistic Regression Parameters: {'C': 0.026366508987303555, 'penalty': 'l2'}\n",
      "Best score is 0.9465525277787523\n",
      "training Set:\n",
      "\n",
      "training Confusion Matrix:\n",
      "[[92992   584]\n",
      " [ 4996  1190]]\n",
      "training Classification report:\n",
      "             precision    recall  f1-score   support\n",
      "\n",
      "          0       0.95      0.99      0.97     93576\n",
      "          1       0.67      0.19      0.30      6186\n",
      "\n",
      "avg / total       0.93      0.94      0.93     99762\n",
      "\n",
      "training Accuracy: 0.9440668791724304\n"
     ]
    }
   ],
   "source": [
    "# Grid search of optimal hyperparameters for Logistic Regression\n",
    "c_space = np.logspace(-10, 10, 20)\n",
    "param_grid = {'C': c_space, 'penalty': ['l1', 'l2']}\n",
    "\n",
    "# logreg = LogisticRegression(random_state=0, class_weight='balanced')\n",
    "logreg = LogisticRegression()\n",
    "\n",
    "# Instantiate the GridSearchCV object: logreg_cv\n",
    "logreg_cv = GridSearchCV(logreg, param_grid, cv=5)\n",
    "\n",
    "# Fit it to the data\n",
    "logreg_cv.fit(X_train, Y_train)\n",
    "\n",
    "# Print the tuned parameter and score\n",
    "print(\"Tuned Logistic Regression Parameters: {}\".format(logreg_cv.best_params_))\n",
    "print(\"Best score is {}\".format(logreg_cv.best_score_))\n",
    "\n",
    "# Test the model on the test set\n",
    "Y_pred = logreg_cv.predict(X_test)\n",
    "class_report(Y_test, Y_pred,'training')"
   ]
  }
 ],
 "metadata": {
  "kernelspec": {
   "display_name": "Python 3",
   "language": "python",
   "name": "python3"
  },
  "language_info": {
   "codemirror_mode": {
    "name": "ipython",
    "version": 3
   },
   "file_extension": ".py",
   "mimetype": "text/x-python",
   "name": "python",
   "nbconvert_exporter": "python",
   "pygments_lexer": "ipython3",
   "version": "3.6.2"
  },
  "nbpresent": {
   "slides": {},
   "themes": {
    "default": "6c644281-1799-4cce-a279-0da034503deb",
    "theme": {
     "6c644281-1799-4cce-a279-0da034503deb": {
      "backgrounds": {
       "dc7afa04-bf90-40b1-82a5-726e3cff5267": {
        "background-color": "31af15d2-7e15-44c5-ab5e-e04b16a89eff",
        "id": "dc7afa04-bf90-40b1-82a5-726e3cff5267"
       }
      },
      "id": "6c644281-1799-4cce-a279-0da034503deb",
      "palette": {
       "19cc588f-0593-49c9-9f4b-e4d7cc113b1c": {
        "id": "19cc588f-0593-49c9-9f4b-e4d7cc113b1c",
        "rgb": [
         252,
         252,
         252
        ]
       },
       "31af15d2-7e15-44c5-ab5e-e04b16a89eff": {
        "id": "31af15d2-7e15-44c5-ab5e-e04b16a89eff",
        "rgb": [
         68,
         68,
         68
        ]
       },
       "50f92c45-a630-455b-aec3-788680ec7410": {
        "id": "50f92c45-a630-455b-aec3-788680ec7410",
        "rgb": [
         197,
         226,
         245
        ]
       },
       "c5cc3653-2ee1-402a-aba2-7caae1da4f6c": {
        "id": "c5cc3653-2ee1-402a-aba2-7caae1da4f6c",
        "rgb": [
         43,
         126,
         184
        ]
       },
       "efa7f048-9acb-414c-8b04-a26811511a21": {
        "id": "efa7f048-9acb-414c-8b04-a26811511a21",
        "rgb": [
         25.118061674008803,
         73.60176211453744,
         107.4819383259912
        ]
       }
      },
      "rules": {
       "a": {
        "color": "19cc588f-0593-49c9-9f4b-e4d7cc113b1c"
       },
       "blockquote": {
        "color": "50f92c45-a630-455b-aec3-788680ec7410",
        "font-size": 3
       },
       "code": {
        "font-family": "Anonymous Pro"
       },
       "h1": {
        "color": "19cc588f-0593-49c9-9f4b-e4d7cc113b1c",
        "font-family": "Merriweather",
        "font-size": 8
       },
       "h2": {
        "color": "19cc588f-0593-49c9-9f4b-e4d7cc113b1c",
        "font-family": "Merriweather",
        "font-size": 6
       },
       "h3": {
        "color": "50f92c45-a630-455b-aec3-788680ec7410",
        "font-family": "Lato",
        "font-size": 5.5
       },
       "h4": {
        "color": "c5cc3653-2ee1-402a-aba2-7caae1da4f6c",
        "font-family": "Lato",
        "font-size": 5
       },
       "h5": {
        "font-family": "Lato"
       },
       "h6": {
        "font-family": "Lato"
       },
       "h7": {
        "font-family": "Lato"
       },
       "li": {
        "color": "50f92c45-a630-455b-aec3-788680ec7410",
        "font-size": 3.25
       },
       "pre": {
        "font-family": "Anonymous Pro",
        "font-size": 4
       }
      },
      "text-base": {
       "color": "19cc588f-0593-49c9-9f4b-e4d7cc113b1c",
       "font-family": "Lato",
       "font-size": 4
      }
     }
    }
   }
  }
 },
 "nbformat": 4,
 "nbformat_minor": 2
}
