{
 "cells": [
  {
   "cell_type": "markdown",
   "metadata": {
    "nbpresent": {
     "id": "c91f1b1f-15c5-4cf6-9d0d-98878e611f84"
    }
   },
   "source": [
    "# Libraries and setup variables"
   ]
  },
  {
   "cell_type": "code",
   "execution_count": 1,
   "metadata": {
    "nbpresent": {
     "id": "3c15f510-9c43-40f8-9000-152c118f8fb6"
    }
   },
   "outputs": [
    {
     "data": {
      "text/html": [
       "<style>.container { width:100% !important; }</style>"
      ],
      "text/plain": [
       "<IPython.core.display.HTML object>"
      ]
     },
     "metadata": {},
     "output_type": "display_data"
    }
   ],
   "source": [
    "from IPython.core.display import display, HTML\n",
    "display(HTML(\"<style>.container { width:100% !important; }</style>\"))\n",
    "\n",
    "import pandas as pd\n",
    "import numpy as np\n",
    "import matplotlib.pyplot as plt\n",
    "import seaborn as sns\n",
    "\n",
    "from utils import *\n",
    "\n",
    "%matplotlib inline\n",
    "sns.set()"
   ]
  },
  {
   "cell_type": "markdown",
   "metadata": {
    "nbpresent": {
     "id": "f58b778a-67b1-4cc5-ba9f-3e7b89290251"
    }
   },
   "source": [
    "### Loading the processed dataset\n",
    "\n",
    "Here we'll load the data into a dataframe, and run a series of initial exploratory analysis."
   ]
  },
  {
   "cell_type": "code",
   "execution_count": 47,
   "metadata": {
    "nbpresent": {
     "id": "9e02bc77-c04e-45b3-9627-884fdb436ce0"
    }
   },
   "outputs": [],
   "source": [
    "df_train = pd.read_csv('../data/interim/preprocessed_train.csv')\n",
    "df_test  = pd.read_csv('../data/interim/preprocessed_test.csv')\n",
    "df = pd.concat([df_train, df_test], ignore_index=True)"
   ]
  },
  {
   "cell_type": "code",
   "execution_count": 48,
   "metadata": {},
   "outputs": [],
   "source": [
    "# Education level, we'll group undergrad and postgrad\n",
    "df['education'] = df['education'].apply(lambda x: 'college' if x in ['Undergraduate', 'Postgraduate'] else 'no-college')\n",
    "\n",
    "# Just married or not married categories, simpler\n",
    "df['marital stat'] = df['marital stat'].apply(lambda x: 'married' if x=='Married' else 'not married')\n",
    "\n",
    "# Grouping occupations\n",
    "well_paid_occupations = ['Professional specialty', 'Executive admin and managerial', 'Sales']\n",
    "df['major occupation code'] = df['major occupation code'].apply(lambda x: 'well-paid occ' if x in well_paid_occupations else 'not well-paid occ')\n",
    "\n",
    "# Grouping industries\n",
    "well_paid_industries = ['Other professional services', 'Manufacturing-durable goods', 'Finance insurance and real estate']\n",
    "df['major industry code'] = df['major industry code'].apply(lambda x: 'well-paid ind' if x in well_paid_industries else 'not well-paid ind')\n",
    "\n",
    "# Separating householders from others types.\n",
    "df['detailed household summary in household'] = df['detailed household summary in household'].apply(lambda x: x if x=='Householder' else 'Not householder')\n",
    "\n",
    "# Private workers (I'm assuming this might be something like self employed)\n",
    "df['class of worker'] = df['class of worker'].apply(lambda x: x if x=='Private' else 'Other')\n",
    "\n",
    "# Grouping joint tax filers\n",
    "df['tax filer stat'] = df['tax filer stat'].apply(lambda x: x if x=='Joint both under 65' else 'Other')\n",
    "\n",
    "# Dropping the detailed industry and occupation recodes, these are numbers but not really\n",
    "drop_columns = ['detailed industry recode', 'detailed occupation recode', 'year', 'veterans benefits', \n",
    "               \"fill inc questionnaire for veteran's admin\"]\n",
    "df = df.drop(columns=drop_columns)\n",
    "\n",
    "# Train and test \n",
    "df['set'] = df['set'].apply(lambda x: 1 if x=='train' else 0)\n",
    "\n"
   ]
  },
  {
   "cell_type": "code",
   "execution_count": 49,
   "metadata": {},
   "outputs": [],
   "source": [
    "df = one_hot_df(df, ['salary', 'set'])"
   ]
  },
  {
   "cell_type": "code",
   "execution_count": 50,
   "metadata": {
    "scrolled": false
   },
   "outputs": [],
   "source": [
    "# Split the dataset again and save under the processed folder\n",
    "df_train = df[df['set']==1]\n",
    "df_test = df[df['set']==0]\n",
    "\n",
    "df_train.to_csv('../data/processed/train.csv', index=False)\n",
    "df_test.to_csv('../data/processed/test.csv', index=False)"
   ]
  },
  {
   "cell_type": "code",
   "execution_count": null,
   "metadata": {},
   "outputs": [],
   "source": []
  }
 ],
 "metadata": {
  "kernelspec": {
   "display_name": "Python [conda env:dataiku]",
   "language": "python",
   "name": "conda-env-dataiku-py"
  },
  "language_info": {
   "codemirror_mode": {
    "name": "ipython",
    "version": 3
   },
   "file_extension": ".py",
   "mimetype": "text/x-python",
   "name": "python",
   "nbconvert_exporter": "python",
   "pygments_lexer": "ipython3",
   "version": "3.6.6"
  },
  "nbpresent": {
   "slides": {},
   "themes": {
    "default": "6c644281-1799-4cce-a279-0da034503deb",
    "theme": {
     "6c644281-1799-4cce-a279-0da034503deb": {
      "backgrounds": {
       "dc7afa04-bf90-40b1-82a5-726e3cff5267": {
        "background-color": "31af15d2-7e15-44c5-ab5e-e04b16a89eff",
        "id": "dc7afa04-bf90-40b1-82a5-726e3cff5267"
       }
      },
      "id": "6c644281-1799-4cce-a279-0da034503deb",
      "palette": {
       "19cc588f-0593-49c9-9f4b-e4d7cc113b1c": {
        "id": "19cc588f-0593-49c9-9f4b-e4d7cc113b1c",
        "rgb": [
         252,
         252,
         252
        ]
       },
       "31af15d2-7e15-44c5-ab5e-e04b16a89eff": {
        "id": "31af15d2-7e15-44c5-ab5e-e04b16a89eff",
        "rgb": [
         68,
         68,
         68
        ]
       },
       "50f92c45-a630-455b-aec3-788680ec7410": {
        "id": "50f92c45-a630-455b-aec3-788680ec7410",
        "rgb": [
         197,
         226,
         245
        ]
       },
       "c5cc3653-2ee1-402a-aba2-7caae1da4f6c": {
        "id": "c5cc3653-2ee1-402a-aba2-7caae1da4f6c",
        "rgb": [
         43,
         126,
         184
        ]
       },
       "efa7f048-9acb-414c-8b04-a26811511a21": {
        "id": "efa7f048-9acb-414c-8b04-a26811511a21",
        "rgb": [
         25.118061674008803,
         73.60176211453744,
         107.4819383259912
        ]
       }
      },
      "rules": {
       "a": {
        "color": "19cc588f-0593-49c9-9f4b-e4d7cc113b1c"
       },
       "blockquote": {
        "color": "50f92c45-a630-455b-aec3-788680ec7410",
        "font-size": 3
       },
       "code": {
        "font-family": "Anonymous Pro"
       },
       "h1": {
        "color": "19cc588f-0593-49c9-9f4b-e4d7cc113b1c",
        "font-family": "Merriweather",
        "font-size": 8
       },
       "h2": {
        "color": "19cc588f-0593-49c9-9f4b-e4d7cc113b1c",
        "font-family": "Merriweather",
        "font-size": 6
       },
       "h3": {
        "color": "50f92c45-a630-455b-aec3-788680ec7410",
        "font-family": "Lato",
        "font-size": 5.5
       },
       "h4": {
        "color": "c5cc3653-2ee1-402a-aba2-7caae1da4f6c",
        "font-family": "Lato",
        "font-size": 5
       },
       "h5": {
        "font-family": "Lato"
       },
       "h6": {
        "font-family": "Lato"
       },
       "h7": {
        "font-family": "Lato"
       },
       "li": {
        "color": "50f92c45-a630-455b-aec3-788680ec7410",
        "font-size": 3.25
       },
       "pre": {
        "font-family": "Anonymous Pro",
        "font-size": 4
       }
      },
      "text-base": {
       "color": "19cc588f-0593-49c9-9f4b-e4d7cc113b1c",
       "font-family": "Lato",
       "font-size": 4
      }
     }
    }
   }
  }
 },
 "nbformat": 4,
 "nbformat_minor": 2
}
